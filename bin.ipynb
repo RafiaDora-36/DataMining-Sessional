{
 "cells": [
  {
   "cell_type": "code",
   "execution_count": 1,
   "id": "6fb97f27",
   "metadata": {},
   "outputs": [],
   "source": [
    "import numpy as np \n",
    "import math \n",
    "import pandas as pd"
   ]
  },
  {
   "cell_type": "code",
   "execution_count": 5,
   "id": "3bdc1227",
   "metadata": {},
   "outputs": [],
   "source": [
    "df = pd.read_csv('my_income.csv')"
   ]
  },
  {
   "cell_type": "code",
   "execution_count": 6,
   "id": "3c366971",
   "metadata": {},
   "outputs": [
    {
     "name": "stdout",
     "output_type": "stream",
     "text": [
      "        Name  Age  Incomes\n",
      "0        Bob   27     7000\n",
      "1    Michael   29    90000\n",
      "2      Mohan   29    61000\n",
      "3     Ismail   28    60000\n",
      "4       Kory   42   150000\n",
      "5     Gautam   39   155000\n",
      "6      David   41   160000\n",
      "7     Andewa   38   162000\n",
      "8       Brad   36   156000\n",
      "9   Angelina   35   130000\n",
      "10    Donald   37   137000\n",
      "11       Tom   26    45000\n",
      "12   Androd    27    48000\n",
      "13     Jerid   28    51000\n",
      "14     Stark   29    49500\n",
      "15    Ranbir   32    53000\n",
      "16    Dipika   40    65000\n",
      "17  Priyanka   41    63000\n",
      "18      Nick   43    64000\n",
      "19      Alia   39    80000\n",
      "20       Sid   41    82000\n",
      "21     Abdul   39    58000\n"
     ]
    }
   ],
   "source": [
    "print(df)"
   ]
  },
  {
   "cell_type": "code",
   "execution_count": 8,
   "id": "b2c2a4d9",
   "metadata": {},
   "outputs": [],
   "source": [
    "data = df['Name']"
   ]
  },
  {
   "cell_type": "code",
   "execution_count": 9,
   "id": "93345520",
   "metadata": {},
   "outputs": [
    {
     "name": "stdout",
     "output_type": "stream",
     "text": [
      "0          Bob\n",
      "1      Michael\n",
      "2        Mohan\n",
      "3       Ismail\n",
      "4         Kory\n",
      "5       Gautam\n",
      "6        David\n",
      "7       Andewa\n",
      "8         Brad\n",
      "9     Angelina\n",
      "10      Donald\n",
      "11         Tom\n",
      "12     Androd \n",
      "13       Jerid\n",
      "14       Stark\n",
      "15      Ranbir\n",
      "16      Dipika\n",
      "17    Priyanka\n",
      "18        Nick\n",
      "19        Alia\n",
      "20         Sid\n",
      "21       Abdul\n",
      "Name: Name, dtype: object\n"
     ]
    }
   ],
   "source": [
    "print(data)"
   ]
  },
  {
   "cell_type": "code",
   "execution_count": null,
   "id": "93bd08ba",
   "metadata": {},
   "outputs": [],
   "source": []
  }
 ],
 "metadata": {
  "kernelspec": {
   "display_name": "Python 3 (ipykernel)",
   "language": "python",
   "name": "python3"
  },
  "language_info": {
   "codemirror_mode": {
    "name": "ipython",
    "version": 3
   },
   "file_extension": ".py",
   "mimetype": "text/x-python",
   "name": "python",
   "nbconvert_exporter": "python",
   "pygments_lexer": "ipython3",
   "version": "3.8.12"
  }
 },
 "nbformat": 4,
 "nbformat_minor": 5
}
