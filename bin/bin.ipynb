{
 "cells": [
  {
   "cell_type": "code",
   "execution_count": 1,
   "id": "87572ffd",
   "metadata": {},
   "outputs": [],
   "source": [
    "import numpy as np \n",
    "import math \n",
    "import pandas as pd\n",
    "df = pd.read_csv('kmean_data.csv')\n",
    "data = df['y']"
   ]
  },
  {
   "cell_type": "code",
   "execution_count": 2,
   "id": "59cef0eb",
   "metadata": {},
   "outputs": [
    {
     "name": "stdout",
     "output_type": "stream",
     "text": [
      "[ 5  7  8 12 14 20 20 25 27 29 32 35 36 40 47 50 51 51 53 53 57 58 59 59\n",
      " 69 73 74 75 78 79]\n"
     ]
    }
   ],
   "source": [
    "data = data[:30]\n",
    "data=np.sort(data)\n",
    "print(data)"
   ]
  },
  {
   "cell_type": "code",
   "execution_count": 3,
   "id": "028e6ebf",
   "metadata": {},
   "outputs": [],
   "source": [
    "b1=np.zeros((10,4)) \n",
    "b2=np.zeros((10,4)) \n",
    "b3=np.zeros((10,4))"
   ]
  },
  {
   "cell_type": "code",
   "execution_count": 45,
   "id": "ba5d22a0",
   "metadata": {},
   "outputs": [
    {
     "name": "stdout",
     "output_type": "stream",
     "text": [
      "Mean Bin:\n",
      " [[ 6.66666667  6.66666667  6.66666667  0.        ]\n",
      " [15.33333333 15.33333333 15.33333333  0.        ]\n",
      " [24.         24.         24.          0.        ]\n",
      " [32.         32.         32.          0.        ]\n",
      " [41.         41.         41.          0.        ]\n",
      " [50.66666667 50.66666667 50.66666667  0.        ]\n",
      " [54.33333333 54.33333333 54.33333333  0.        ]\n",
      " [58.66666667 58.66666667 58.66666667  0.        ]\n",
      " [72.         72.         72.          0.        ]\n",
      " [77.33333333 77.33333333 77.33333333  0.        ]]\n"
     ]
    }
   ],
   "source": [
    "for i in range (0,30,3): \n",
    "  k=int(i/3) \n",
    "  mean=(data[i] + data[i+1] + data[i+2] )/3\n",
    "  for j in range(3): \n",
    "    b1[k,j]=mean \n",
    "print(\"Mean Bin:\\n\",b1)"
   ]
  },
  {
   "cell_type": "code",
   "execution_count": 46,
   "id": "b0e9ae4f",
   "metadata": {},
   "outputs": [
    {
     "name": "stdout",
     "output_type": "stream",
     "text": [
      "Median Bin : \n",
      " [[ 7.  7.  7.  0.]\n",
      " [14. 14. 14.  0.]\n",
      " [25. 25. 25.  0.]\n",
      " [32. 32. 32.  0.]\n",
      " [40. 40. 40.  0.]\n",
      " [51. 51. 51.  0.]\n",
      " [53. 53. 53.  0.]\n",
      " [59. 59. 59.  0.]\n",
      " [73. 73. 73.  0.]\n",
      " [78. 78. 78.  0.]]\n"
     ]
    }
   ],
   "source": [
    "for i in range (0,30,3): \n",
    "  k=int(i/3) \n",
    "  for j in range (3): \n",
    "    b2[k,j]=data[i+1] \n",
    "print(\"Median Bin : \\n\",b2)"
   ]
  },
  {
   "cell_type": "code",
   "execution_count": 47,
   "id": "5dcafd4c",
   "metadata": {},
   "outputs": [
    {
     "name": "stdout",
     "output_type": "stream",
     "text": [
      "Boundary Bin: \n",
      " [[ 5.  8.  8.  0.]\n",
      " [12. 12. 20.  0.]\n",
      " [20. 27. 27.  0.]\n",
      " [29. 35. 35.  0.]\n",
      " [36. 36. 47.  0.]\n",
      " [50. 51. 51.  0.]\n",
      " [53. 53. 57.  0.]\n",
      " [58. 59. 59.  0.]\n",
      " [69. 74. 74.  0.]\n",
      " [75. 79. 79.  0.]]\n"
     ]
    }
   ],
   "source": [
    "for i in range (0,30,3): \n",
    "  k=int(i/3) \n",
    "  for j in range (3): \n",
    "    if (data[i+j]-data[i]) < (data[i+2]-data[i+j]): \n",
    "      b3[k,j]=data[i] \n",
    "    else: \n",
    "      b3[k,j]=data[i+2]   \n",
    "print(\"Boundary Bin: \\n\",b3)"
   ]
  },
  {
   "cell_type": "code",
   "execution_count": null,
   "id": "31c4c87b",
   "metadata": {},
   "outputs": [],
   "source": []
  },
  {
   "cell_type": "code",
   "execution_count": null,
   "id": "1b9a2698",
   "metadata": {},
   "outputs": [],
   "source": []
  }
 ],
 "metadata": {
  "kernelspec": {
   "display_name": "Python 3 (ipykernel)",
   "language": "python",
   "name": "python3"
  },
  "language_info": {
   "codemirror_mode": {
    "name": "ipython",
    "version": 3
   },
   "file_extension": ".py",
   "mimetype": "text/x-python",
   "name": "python",
   "nbconvert_exporter": "python",
   "pygments_lexer": "ipython3",
   "version": "3.8.12"
  }
 },
 "nbformat": 4,
 "nbformat_minor": 5
}
