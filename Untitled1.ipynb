{
 "cells": [
  {
   "cell_type": "code",
   "execution_count": 1,
   "metadata": {},
   "outputs": [
    {
     "name": "stdout",
     "output_type": "stream",
     "text": [
      "[2, 3, 4, 10, 11, 12]\n",
      "[20, 25, 30]\n",
      "16.0\n"
     ]
    },
    {
     "data": {
      "image/png": "[encoded data removed]",
      "text/plain": [
       "<Figure size 432x288 with 1 Axes>"
      ]
     },
     "metadata": {
      "needs_background": "light"
     },
     "output_type": "display_data"
    }
   ],
   "source": [
    "# -*- coding: utf-8 -*-\n",
    "\"\"\"\n",
    "Created on Wed Nov 27 12:26:24 2019\n",
    "@author: Zahid\n",
    "\"\"\"\n",
    "import pandas as pd\n",
    "import matplotlib.pyplot as plt\n",
    "\n",
    "a=[2,3,4,10,11,12,20,25,30]\n",
    " \n",
    "m1=a[2]\n",
    "m2=a[5]\n",
    "b=c=0\n",
    "\n",
    "while True:\n",
    "    k1=[]\n",
    "    k2=[]\n",
    "    lab=[]\n",
    "    for i in a:\n",
    "        if abs(i-m1)<abs(i-m2):\n",
    "            k1.append(i)\n",
    "            lab.append(0)\n",
    "        else:\n",
    "            k2.append(i)\n",
    "            lab.append(1)\n",
    "    m1=sum(k1)/len(k1)\n",
    "    m2=sum(k2)/len(k2)\n",
    "    if(b==m1) and (c==m2):\n",
    "        break\n",
    "    b=m1\n",
    "    c=m2\n",
    "\n",
    "print(k1)\n",
    "print(k2)\n",
    "m=(m1+m2)/2\n",
    "print(m)\n",
    "plt.plot( [0, len(a)-1],[m,m], \"b\" )\n",
    "colors = [\"g.\",\"r.\"]\n",
    "for i in range(len(a)):\n",
    "    plt.plot(i, a[i], colors[lab[i]], markersize = 10)\n",
    "plt.show()"
   ]
  },
  {
   "cell_type": "code",
   "execution_count": null,
   "metadata": {},
   "outputs": [],
   "source": []
  }
 ],
 "metadata": {
  "kernelspec": {
   "display_name": "Python 3",
   "language": "python",
   "name": "python3"
  },
  "language_info": {
   "codemirror_mode": {
    "name": "ipython",
    "version": 3
   },
   "file_extension": ".py",
   "mimetype": "text/x-python",
   "name": "python",
   "nbconvert_exporter": "python",
   "pygments_lexer": "ipython3",
   "version": "3.8.5"
  }
 },
 "nbformat": 4,
 "nbformat_minor": 4
}
